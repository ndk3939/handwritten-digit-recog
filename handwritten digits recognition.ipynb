{
 "cells": [
  {
   "cell_type": "code",
   "execution_count": 1,
   "id": "0482da5d",
   "metadata": {},
   "outputs": [],
   "source": [
    "import pandas as pd\n"
   ]
  },
  {
   "cell_type": "code",
   "execution_count": 2,
   "id": "c263b609",
   "metadata": {},
   "outputs": [],
   "source": [
    "import numpy as np"
   ]
  },
  {
   "cell_type": "code",
   "execution_count": 3,
   "id": "c032bfa1",
   "metadata": {},
   "outputs": [],
   "source": [
    "import matplotlib.pyplot as plt"
   ]
  },
  {
   "cell_type": "code",
   "execution_count": 4,
   "id": "25176c9d",
   "metadata": {},
   "outputs": [
    {
     "data": {
      "image/png": "[encoded data removed]",
      "text/plain": [
       "<Figure size 720x216 with 4 Axes>"
      ]
     },
     "metadata": {
      "needs_background": "light"
     },
     "output_type": "display_data"
    }
   ],
   "source": [
    "from sklearn.datasets import load_digits\n",
    "df=load_digits()\n",
    "_,axes=plt.subplots(nrows=1,ncols=4,figsize=(10,3))\n",
    "for ax,image,label in zip(axes,df.images,df.target):\n",
    "    ax.set_axis_off()\n",
    "    ax.imshow(image,cmap=plt.cm.gray_r,interpolation='nearest')\n",
    "    ax.set_title(\"training:%i\"%label)"
   ]
  },
  {
   "cell_type": "code",
   "execution_count": 6,
   "id": "cddbb835",
   "metadata": {},
   "outputs": [
    {
     "data": {
      "text/plain": [
       "(1797, 8, 8)"
      ]
     },
     "execution_count": 6,
     "metadata": {},
     "output_type": "execute_result"
    }
   ],
   "source": [
    "df.images.shape"
   ]
  },
  {
   "cell_type": "code",
   "execution_count": 7,
   "id": "2040eec7",
   "metadata": {},
   "outputs": [
    {
     "data": {
      "text/plain": [
       "array([[ 0.,  0.,  5., 13.,  9.,  1.,  0.,  0.],\n",
       "       [ 0.,  0., 13., 15., 10., 15.,  5.,  0.],\n",
       "       [ 0.,  3., 15.,  2.,  0., 11.,  8.,  0.],\n",
       "       [ 0.,  4., 12.,  0.,  0.,  8.,  8.,  0.],\n",
       "       [ 0.,  5.,  8.,  0.,  0.,  9.,  8.,  0.],\n",
       "       [ 0.,  4., 11.,  0.,  1., 12.,  7.,  0.],\n",
       "       [ 0.,  2., 14.,  5., 10., 12.,  0.,  0.],\n",
       "       [ 0.,  0.,  6., 13., 10.,  0.,  0.,  0.]])"
      ]
     },
     "execution_count": 7,
     "metadata": {},
     "output_type": "execute_result"
    }
   ],
   "source": [
    "df.images[0]"
   ]
  },
  {
   "cell_type": "code",
   "execution_count": 8,
   "id": "d9326ecb",
   "metadata": {},
   "outputs": [
    {
     "data": {
      "text/plain": [
       "(8, 8)"
      ]
     },
     "execution_count": 8,
     "metadata": {},
     "output_type": "execute_result"
    }
   ],
   "source": [
    "df.images[0].shape"
   ]
  },
  {
   "cell_type": "code",
   "execution_count": 9,
   "id": "f419b473",
   "metadata": {},
   "outputs": [
    {
     "data": {
      "text/plain": [
       "1797"
      ]
     },
     "execution_count": 9,
     "metadata": {},
     "output_type": "execute_result"
    }
   ],
   "source": [
    "len(df.images)"
   ]
  },
  {
   "cell_type": "code",
   "execution_count": 13,
   "id": "0d0e02b0",
   "metadata": {},
   "outputs": [],
   "source": [
    "n_samples=len(df.images)\n",
    "data=df.images.reshape((n_samples,-1))"
   ]
  },
  {
   "cell_type": "code",
   "execution_count": 14,
   "id": "ff64dd7a",
   "metadata": {},
   "outputs": [
    {
     "data": {
      "text/plain": [
       "array([ 0.,  0.,  5., 13.,  9.,  1.,  0.,  0.,  0.,  0., 13., 15., 10.,\n",
       "       15.,  5.,  0.,  0.,  3., 15.,  2.,  0., 11.,  8.,  0.,  0.,  4.,\n",
       "       12.,  0.,  0.,  8.,  8.,  0.,  0.,  5.,  8.,  0.,  0.,  9.,  8.,\n",
       "        0.,  0.,  4., 11.,  0.,  1., 12.,  7.,  0.,  0.,  2., 14.,  5.,\n",
       "       10., 12.,  0.,  0.,  0.,  0.,  6., 13., 10.,  0.,  0.,  0.])"
      ]
     },
     "execution_count": 14,
     "metadata": {},
     "output_type": "execute_result"
    }
   ],
   "source": [
    "data[0]"
   ]
  },
  {
   "cell_type": "code",
   "execution_count": 15,
   "id": "5c601967",
   "metadata": {},
   "outputs": [
    {
     "data": {
      "text/plain": [
       "(64,)"
      ]
     },
     "execution_count": 15,
     "metadata": {},
     "output_type": "execute_result"
    }
   ],
   "source": [
    "data[0].shape"
   ]
  },
  {
   "cell_type": "code",
   "execution_count": 16,
   "id": "55e7471d",
   "metadata": {},
   "outputs": [
    {
     "data": {
      "text/plain": [
       "(1797, 64)"
      ]
     },
     "execution_count": 16,
     "metadata": {},
     "output_type": "execute_result"
    }
   ],
   "source": [
    "data.shape"
   ]
  },
  {
   "cell_type": "code",
   "execution_count": 17,
   "id": "2f71cb89",
   "metadata": {},
   "outputs": [
    {
     "data": {
      "text/plain": [
       "0.0"
      ]
     },
     "execution_count": 17,
     "metadata": {},
     "output_type": "execute_result"
    }
   ],
   "source": [
    "data.min()"
   ]
  },
  {
   "cell_type": "code",
   "execution_count": 18,
   "id": "d96149d8",
   "metadata": {},
   "outputs": [
    {
     "data": {
      "text/plain": [
       "16.0"
      ]
     },
     "execution_count": 18,
     "metadata": {},
     "output_type": "execute_result"
    }
   ],
   "source": [
    "data.max()"
   ]
  },
  {
   "cell_type": "code",
   "execution_count": 20,
   "id": "265e2f92",
   "metadata": {},
   "outputs": [],
   "source": [
    "data=data/16"
   ]
  },
  {
   "cell_type": "code",
   "execution_count": 21,
   "id": "7a161026",
   "metadata": {},
   "outputs": [
    {
     "data": {
      "text/plain": [
       "0.0"
      ]
     },
     "execution_count": 21,
     "metadata": {},
     "output_type": "execute_result"
    }
   ],
   "source": [
    "data.min()"
   ]
  },
  {
   "cell_type": "code",
   "execution_count": 22,
   "id": "50df56c8",
   "metadata": {},
   "outputs": [
    {
     "data": {
      "text/plain": [
       "1.0"
      ]
     },
     "execution_count": 22,
     "metadata": {},
     "output_type": "execute_result"
    }
   ],
   "source": [
    "data.max() "
   ]
  },
  {
   "cell_type": "code",
   "execution_count": 23,
   "id": "98e6d39c",
   "metadata": {},
   "outputs": [
    {
     "data": {
      "text/plain": [
       "array([0.    , 0.    , 0.3125, 0.8125, 0.5625, 0.0625, 0.    , 0.    ,\n",
       "       0.    , 0.    , 0.8125, 0.9375, 0.625 , 0.9375, 0.3125, 0.    ,\n",
       "       0.    , 0.1875, 0.9375, 0.125 , 0.    , 0.6875, 0.5   , 0.    ,\n",
       "       0.    , 0.25  , 0.75  , 0.    , 0.    , 0.5   , 0.5   , 0.    ,\n",
       "       0.    , 0.3125, 0.5   , 0.    , 0.    , 0.5625, 0.5   , 0.    ,\n",
       "       0.    , 0.25  , 0.6875, 0.    , 0.0625, 0.75  , 0.4375, 0.    ,\n",
       "       0.    , 0.125 , 0.875 , 0.3125, 0.625 , 0.75  , 0.    , 0.    ,\n",
       "       0.    , 0.    , 0.375 , 0.8125, 0.625 , 0.    , 0.    , 0.    ])"
      ]
     },
     "execution_count": 23,
     "metadata": {},
     "output_type": "execute_result"
    }
   ],
   "source": [
    "data[0]"
   ]
  },
  {
   "cell_type": "code",
   "execution_count": 28,
   "id": "00c83be3",
   "metadata": {},
   "outputs": [
    {
     "data": {
      "text/plain": [
       "((1257, 64), (540, 64), (1257,), (540,))"
      ]
     },
     "execution_count": 28,
     "metadata": {},
     "output_type": "execute_result"
    }
   ],
   "source": [
    "from sklearn.model_selection import train_test_split\n",
    "X_train,X_test,y_train,y_test=train_test_split(data,df.target,test_size=0.3)\n",
    "X_train.shape,X_test.shape,y_train.shape,y_test.shape\n"
   ]
  },
  {
   "cell_type": "code",
   "execution_count": 29,
   "id": "40c0b2e2",
   "metadata": {},
   "outputs": [
    {
     "data": {
      "text/plain": [
       "RandomForestClassifier()"
      ]
     },
     "execution_count": 29,
     "metadata": {},
     "output_type": "execute_result"
    }
   ],
   "source": [
    "from sklearn.ensemble import RandomForestClassifier\n",
    "rf=RandomForestClassifier()\n",
    "rf.fit(X_train,y_train)"
   ]
  },
  {
   "cell_type": "code",
   "execution_count": 30,
   "id": "184cc337",
   "metadata": {},
   "outputs": [],
   "source": [
    "y_pred=rf.predict(X_test)"
   ]
  },
  {
   "cell_type": "code",
   "execution_count": 31,
   "id": "9a738610",
   "metadata": {},
   "outputs": [
    {
     "data": {
      "text/plain": [
       "array([6, 6, 1, 7, 4, 6, 2, 6, 1, 0, 3, 3, 9, 9, 8, 5, 4, 3, 7, 9, 6, 4,\n",
       "       9, 7, 3, 1, 6, 6, 8, 4, 0, 3, 3, 8, 1, 8, 5, 9, 5, 2, 0, 5, 1, 2,\n",
       "       9, 4, 3, 7, 9, 9, 1, 0, 0, 5, 5, 2, 7, 7, 0, 0, 5, 9, 3, 6, 9, 9,\n",
       "       5, 4, 1, 2, 7, 6, 7, 3, 5, 3, 3, 6, 7, 0, 3, 5, 2, 2, 2, 9, 6, 3,\n",
       "       5, 9, 7, 8, 1, 0, 8, 2, 9, 5, 6, 6, 2, 3, 8, 5, 3, 2, 9, 6, 2, 9,\n",
       "       0, 4, 9, 9, 1, 1, 2, 6, 1, 3, 3, 0, 6, 0, 0, 2, 6, 9, 3, 9, 4, 8,\n",
       "       2, 6, 4, 1, 8, 1, 1, 6, 4, 1, 4, 0, 8, 0, 6, 4, 7, 4, 2, 7, 9, 2,\n",
       "       8, 2, 0, 0, 6, 1, 2, 0, 2, 9, 8, 0, 6, 4, 3, 3, 9, 0, 0, 7, 5, 6,\n",
       "       7, 6, 6, 8, 5, 7, 9, 7, 1, 4, 9, 7, 2, 9, 5, 2, 1, 9, 3, 1, 3, 1,\n",
       "       8, 8, 2, 5, 1, 7, 4, 6, 6, 1, 0, 2, 2, 1, 7, 9, 8, 8, 6, 0, 7, 0,\n",
       "       5, 7, 5, 3, 5, 4, 7, 9, 1, 5, 0, 1, 2, 0, 9, 5, 6, 9, 5, 7, 6, 6,\n",
       "       4, 8, 2, 6, 8, 6, 0, 4, 1, 6, 6, 8, 6, 6, 2, 7, 4, 0, 2, 2, 5, 9,\n",
       "       3, 1, 7, 7, 9, 6, 1, 3, 0, 9, 2, 8, 8, 7, 4, 0, 4, 9, 0, 1, 1, 0,\n",
       "       6, 2, 2, 6, 6, 4, 2, 9, 6, 1, 3, 9, 1, 7, 3, 3, 0, 8, 3, 9, 1, 6,\n",
       "       6, 8, 8, 8, 8, 4, 7, 2, 3, 9, 9, 9, 6, 5, 9, 9, 5, 6, 3, 4, 8, 1,\n",
       "       3, 5, 1, 5, 0, 2, 9, 5, 2, 7, 7, 3, 9, 5, 1, 1, 8, 1, 7, 4, 3, 4,\n",
       "       5, 6, 7, 4, 4, 5, 3, 9, 3, 0, 2, 0, 2, 5, 2, 1, 0, 9, 3, 5, 6, 3,\n",
       "       9, 9, 7, 4, 0, 1, 4, 4, 0, 2, 0, 2, 1, 4, 7, 3, 0, 8, 3, 4, 0, 2,\n",
       "       7, 2, 6, 6, 8, 6, 0, 4, 9, 4, 5, 3, 6, 6, 6, 8, 3, 6, 0, 8, 4, 2,\n",
       "       6, 7, 2, 7, 8, 6, 4, 4, 0, 5, 1, 1, 6, 2, 9, 1, 5, 6, 9, 0, 4, 1,\n",
       "       1, 9, 0, 4, 7, 4, 7, 8, 5, 6, 7, 7, 5, 3, 0, 4, 9, 7, 9, 0, 7, 5,\n",
       "       8, 4, 5, 7, 1, 9, 8, 4, 1, 2, 8, 1, 7, 7, 9, 2, 7, 8, 0, 4, 1, 2,\n",
       "       9, 5, 4, 5, 9, 8, 4, 4, 9, 5, 4, 7, 7, 3, 5, 8, 6, 6, 3, 6, 7, 6,\n",
       "       3, 1, 4, 5, 1, 0, 6, 0, 2, 1, 8, 1, 1, 3, 9, 3, 0, 2, 6, 3, 5, 3,\n",
       "       3, 5, 4, 0, 3, 2, 4, 2, 1, 1, 0, 9])"
      ]
     },
     "execution_count": 31,
     "metadata": {},
     "output_type": "execute_result"
    }
   ],
   "source": [
    "y_pred"
   ]
  },
  {
   "cell_type": "code",
   "execution_count": 32,
   "id": "3dcbc5ab",
   "metadata": {},
   "outputs": [
    {
     "data": {
      "text/plain": [
       "array([[55,  0,  0,  0,  2,  0,  0,  0,  0,  0],\n",
       "       [ 0, 56,  0,  0,  0,  0,  0,  0,  0,  0],\n",
       "       [ 0,  0, 54,  0,  0,  0,  0,  0,  0,  0],\n",
       "       [ 0,  0,  0, 50,  0,  2,  0,  0,  0,  0],\n",
       "       [ 0,  0,  0,  0, 51,  0,  0,  2,  0,  0],\n",
       "       [ 0,  0,  0,  0,  0, 45,  1,  0,  0,  1],\n",
       "       [ 0,  0,  0,  0,  0,  0, 65,  0,  0,  0],\n",
       "       [ 0,  0,  0,  0,  0,  0,  0, 47,  0,  0],\n",
       "       [ 0,  1,  0,  1,  0,  0,  0,  1, 41,  1],\n",
       "       [ 0,  0,  0,  1,  0,  1,  0,  1,  1, 60]], dtype=int64)"
      ]
     },
     "execution_count": 32,
     "metadata": {},
     "output_type": "execute_result"
    }
   ],
   "source": [
    "from sklearn.metrics import confusion_matrix,classification_report\n",
    "confusion_matrix(y_test,y_pred)"
   ]
  },
  {
   "cell_type": "code",
   "execution_count": 33,
   "id": "25977d34",
   "metadata": {},
   "outputs": [
    {
     "name": "stdout",
     "output_type": "stream",
     "text": [
      "              precision    recall  f1-score   support\n",
      "\n",
      "           0       1.00      0.96      0.98        57\n",
      "           1       0.98      1.00      0.99        56\n",
      "           2       1.00      1.00      1.00        54\n",
      "           3       0.96      0.96      0.96        52\n",
      "           4       0.96      0.96      0.96        53\n",
      "           5       0.94      0.96      0.95        47\n",
      "           6       0.98      1.00      0.99        65\n",
      "           7       0.92      1.00      0.96        47\n",
      "           8       0.98      0.91      0.94        45\n",
      "           9       0.97      0.94      0.95        64\n",
      "\n",
      "    accuracy                           0.97       540\n",
      "   macro avg       0.97      0.97      0.97       540\n",
      "weighted avg       0.97      0.97      0.97       540\n",
      "\n"
     ]
    }
   ],
   "source": [
    "print(classification_report(y_test,y_pred))"
   ]
  },
  {
   "cell_type": "code",
   "execution_count": null,
   "id": "73bdeb10",
   "metadata": {},
   "outputs": [],
   "source": []
  }
 ],
 "metadata": {
  "kernelspec": {
   "display_name": "Python 3 (ipykernel)",
   "language": "python",
   "name": "python3"
  },
  "language_info": {
   "codemirror_mode": {
    "name": "ipython",
    "version": 3
   },
   "file_extension": ".py",
   "mimetype": "text/x-python",
   "name": "python",
   "nbconvert_exporter": "python",
   "pygments_lexer": "ipython3",
   "version": "3.9.12"
  }
 },
 "nbformat": 4,
 "nbformat_minor": 5
}
